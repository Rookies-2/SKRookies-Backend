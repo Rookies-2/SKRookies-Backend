{
 "cells": [
  {
   "cell_type": "code",
   "execution_count": 14,
   "id": "3bfc2b88",
   "metadata": {},
   "outputs": [
    {
     "name": "stdout",
     "output_type": "stream",
     "text": [
      "데이터 개수: 139884\n"
     ]
    }
   ],
   "source": [
    "import pandas as pd\n",
    "from sklearn.model_selection import train_test_split\n",
    "from sklearn.preprocessing import LabelEncoder, StandardScaler\n",
    "from sklearn.ensemble import RandomForestClassifier\n",
    "from sklearn.metrics import classification_report, confusion_matrix\n",
    "\n",
    "# 1. 데이터 불러오기\n",
    "df = pd.read_csv(\"./UNSW_NB15_testing-set.csv\")\n",
    "\n",
    "# 2. 필요한 공격 유형만 필터링\n",
    "target_cats = [\"Backdoors\", \"Exploits\", \"Generic\", \"Reconnaissance\",\"Normal\"]\n",
    "df = df[df[\"attack_cat\"].isin(target_cats)]\n",
    "print(\"데이터 개수:\", len(df))\n",
    "\n"
   ]
  },
  {
   "cell_type": "code",
   "execution_count": 4,
   "id": "436c8c65",
   "metadata": {},
   "outputs": [
    {
     "data": {
      "text/plain": [
       "id                     int64\n",
       "dur                  float64\n",
       "proto                 object\n",
       "service               object\n",
       "state                 object\n",
       "spkts                  int64\n",
       "dpkts                  int64\n",
       "sbytes                 int64\n",
       "dbytes                 int64\n",
       "rate                 float64\n",
       "sttl                   int64\n",
       "dttl                   int64\n",
       "sload                float64\n",
       "dload                float64\n",
       "sloss                  int64\n",
       "dloss                  int64\n",
       "sinpkt               float64\n",
       "dinpkt               float64\n",
       "sjit                 float64\n",
       "djit                 float64\n",
       "swin                   int64\n",
       "stcpb                  int64\n",
       "dtcpb                  int64\n",
       "dwin                   int64\n",
       "tcprtt               float64\n",
       "synack               float64\n",
       "ackdat               float64\n",
       "smean                  int64\n",
       "dmean                  int64\n",
       "trans_depth            int64\n",
       "response_body_len      int64\n",
       "ct_srv_src             int64\n",
       "ct_state_ttl           int64\n",
       "ct_dst_ltm             int64\n",
       "ct_src_dport_ltm       int64\n",
       "ct_dst_sport_ltm       int64\n",
       "ct_dst_src_ltm         int64\n",
       "is_ftp_login           int64\n",
       "ct_ftp_cmd             int64\n",
       "ct_flw_http_mthd       int64\n",
       "ct_src_ltm             int64\n",
       "ct_srv_dst             int64\n",
       "is_sm_ips_ports        int64\n",
       "attack_cat            object\n",
       "label                  int64\n",
       "dtype: object"
      ]
     },
     "execution_count": 4,
     "metadata": {},
     "output_type": "execute_result"
    }
   ],
   "source": [
    "df.dtypes"
   ]
  },
  {
   "cell_type": "code",
   "execution_count": 15,
   "id": "bca5eed8",
   "metadata": {},
   "outputs": [
    {
     "data": {
      "text/plain": [
       "Index(['id', 'dur', 'proto', 'service', 'state', 'spkts', 'dpkts', 'sbytes',\n",
       "       'dbytes', 'rate', 'sttl', 'dttl', 'sload', 'dload', 'sloss', 'dloss',\n",
       "       'sinpkt', 'dinpkt', 'sjit', 'djit', 'swin', 'stcpb', 'dtcpb', 'dwin',\n",
       "       'tcprtt', 'synack', 'ackdat', 'smean', 'dmean', 'trans_depth',\n",
       "       'response_body_len', 'ct_srv_src', 'ct_state_ttl', 'ct_dst_ltm',\n",
       "       'ct_src_dport_ltm', 'ct_dst_sport_ltm', 'ct_dst_src_ltm',\n",
       "       'is_ftp_login', 'ct_ftp_cmd', 'ct_flw_http_mthd', 'ct_src_ltm',\n",
       "       'ct_srv_dst', 'is_sm_ips_ports', 'attack_cat', 'label'],\n",
       "      dtype='object')"
      ]
     },
     "execution_count": 15,
     "metadata": {},
     "output_type": "execute_result"
    }
   ],
   "source": [
    "df.columns"
   ]
  },
  {
   "cell_type": "code",
   "execution_count": 28,
   "id": "ab87549a",
   "metadata": {},
   "outputs": [
    {
     "name": "stdout",
     "output_type": "stream",
     "text": [
      "범주형 컬럼: ['proto', 'service', 'state']\n",
      "=== 분류 보고서 ===\n",
      "              precision    recall  f1-score   support\n",
      "\n",
      "           0       0.99      0.99      0.99      5600\n",
      "           1       0.99      1.00      0.99      8389\n",
      "\n",
      "    accuracy                           0.99     13989\n",
      "   macro avg       0.99      0.99      0.99     13989\n",
      "weighted avg       0.99      0.99      0.99     13989\n",
      "\n",
      "=== 혼동 행렬 ===\n",
      "[[5523   77]\n",
      " [  38 8351]]\n"
     ]
    }
   ],
   "source": [
    "# 3. 입력(X), 타겟(y) 분리\n",
    "X = df.drop(columns=[\"label\", \"attack_cat\",\"id\",\"stcpb\",\"dtcpb\"])  # label은 정상/공격, attack_cat은 세부 공격유형\n",
    "y = df[\"label\"]\n",
    "\n",
    "# 4. 범주형 컬럼 인코딩\n",
    "categorical_cols = X.select_dtypes(include=[\"object\"]).columns\n",
    "print(\"범주형 컬럼:\", categorical_cols.tolist())\n",
    "\n",
    "le_dict = {}\n",
    "for col in categorical_cols:\n",
    "    le = LabelEncoder()\n",
    "    X[col] = le.fit_transform(X[col].astype(str))\n",
    "    le_dict[col] = le  # 나중에 pickle로 저장\n",
    "# 5. 수치형 스케일링\n",
    "scaler = StandardScaler()\n",
    "X_scaled = scaler.fit_transform(X)\n",
    "\n",
    "# 6. 데이터 분할 (train/test = 8:2)\n",
    "X_train, X_test, y_train, y_test = train_test_split(\n",
    "    X_scaled, y, test_size=0.1, random_state=42, stratify=y\n",
    ")\n",
    "\n",
    "# 7. 모델 학습 (랜덤포레스트)\n",
    "clf = RandomForestClassifier(max_depth= 15,max_features= 'sqrt',min_samples_leaf= 2, min_samples_split= 5,\n",
    "                             n_estimators=300, random_state=42)\n",
    "clf.fit(X_train, y_train)\n",
    "\n",
    "# 8. 예측 및 평가\n",
    "y_pred = clf.predict(X_test)\n",
    "\n",
    "print(\"=== 분류 보고서 ===\")\n",
    "print(classification_report(y_test, y_pred))\n",
    "\n",
    "print(\"=== 혼동 행렬 ===\")\n",
    "print(confusion_matrix(y_test, y_pred))\n",
    "\n",
    "# 컬럼 순서 저장\n",
    "FEATURE_COLS = X.columns.tolist()\n",
    "\n",
    "# 9. 모델 + LabelEncoder + Scaler를 pickle로 저장\n",
    "with open(\"best_clf_password_model.pkl\", \"wb\") as f:\n",
    "    pickle.dump((clf, le_dict, scaler, FEATURE_COLS), f)"
   ]
  },
  {
   "cell_type": "code",
   "execution_count": 29,
   "id": "23fd9663",
   "metadata": {},
   "outputs": [
    {
     "data": {
      "text/plain": [
       "array([113, 119,   6,  78,  37,  42,  91,  26,  31,  83,  41,  82,   5,\n",
       "        80,  88,  97,  96,   1,  46, 104,  14,  57,  79,  63, 132,  21,\n",
       "        35, 109, 107, 121,  71, 103, 110, 111, 102,  85,  29,  59,  17,\n",
       "        18,  95,  28,  90, 120,  45,  50, 108,   4,   8,  25,  43,  86,\n",
       "       129,  13,  19,  33,  84, 116, 130,  65,  66,  89,  58,  61,  75,\n",
       "        67,  68,   0, 100,  38, 131,  39, 115,  44,  52,  98,  56,  53,\n",
       "        40,  32,  69,  92,  34,  74,  77, 101,  54,  73,  55,  12,   3,\n",
       "        93,  62, 117,  51,  94, 123,  47,  15,  20,  16, 128,  87,  10,\n",
       "       127, 126,   9,  60,  99, 124, 118, 122,  76,  22, 112,  24,  64,\n",
       "        72,   7,  48,   2,  70,  27,  23,  36,  30, 114,  11, 105, 125,\n",
       "        81,  49, 106])"
      ]
     },
     "execution_count": 29,
     "metadata": {},
     "output_type": "execute_result"
    }
   ],
   "source": [
    "X['proto'].unique()"
   ]
  },
  {
   "cell_type": "code",
   "execution_count": 21,
   "id": "d836f431",
   "metadata": {},
   "outputs": [
    {
     "name": "stdout",
     "output_type": "stream",
     "text": [
      "Fitting 5 folds for each of 1 candidates, totalling 5 fits\n",
      "Best parameters found:  {'max_depth': 15, 'max_features': 'sqrt', 'min_samples_leaf': 2, 'min_samples_split': 5, 'n_estimators': 300}\n",
      "Best cross-validation accuracy:  0.9911150015611445\n",
      "=== 분류 보고서 ===\n",
      "              precision    recall  f1-score   support\n",
      "\n",
      "           0       0.99      0.99      0.99     16800\n",
      "           1       0.99      0.99      0.99     25166\n",
      "\n",
      "    accuracy                           0.99     41966\n",
      "   macro avg       0.99      0.99      0.99     41966\n",
      "weighted avg       0.99      0.99      0.99     41966\n",
      "\n",
      "=== 혼동 행렬 ===\n",
      "[[16556   244]\n",
      " [  138 25028]]\n"
     ]
    }
   ],
   "source": [
    "from sklearn.model_selection import GridSearchCV\n",
    "from sklearn.ensemble import RandomForestClassifier\n",
    "from sklearn.metrics import classification_report, confusion_matrix\n",
    "\n",
    "# 1️⃣ 하이퍼파라미터 후보 설정\n",
    "param_grid = {\n",
    "    'n_estimators': [300],           # 트리 개수\n",
    "    'max_depth': [15],          # 트리 최대 깊이\n",
    "    'min_samples_split': [5],          # 노드 분할 최소 샘플 수\n",
    "    'min_samples_leaf': [2],            # 리프 노드 최소 샘플 수\n",
    "    'max_features': ['sqrt']    # 각 분할에서 고려할 최대 특징 수\n",
    "}\n",
    "# 2️⃣ GridSearchCV 객체 생성\n",
    "grid_search = GridSearchCV(\n",
    "    estimator=RandomForestClassifier(random_state=42),\n",
    "    param_grid=param_grid,\n",
    "    cv=5,                # 5-fold 교차검증\n",
    "    n_jobs=-1,           # 모든 CPU 코어 사용\n",
    "    verbose=2,\n",
    "    scoring='accuracy'   # 평가 기준\n",
    ")\n",
    "\n",
    "# 3️⃣ 학습\n",
    "grid_search.fit(X_train, y_train)\n",
    "\n",
    "# 4️⃣ 최적 파라미터 확인\n",
    "print(\"Best parameters found: \", grid_search.best_params_)\n",
    "print(\"Best cross-validation accuracy: \", grid_search.best_score_)\n",
    "\n",
    "# 5️⃣ 최적 모델로 예측\n",
    "best_clf = grid_search.best_estimator_\n",
    "y_pred = best_clf.predict(X_test)\n",
    "\n",
    "# 6️⃣ 평가\n",
    "print(\"=== 분류 보고서 ===\")\n",
    "print(classification_report(y_test, y_pred))\n",
    "print(\"=== 혼동 행렬 ===\")\n",
    "print(confusion_matrix(y_test, y_pred))\n"
   ]
  },
  {
   "cell_type": "code",
   "execution_count": 19,
   "id": "166de60e",
   "metadata": {},
   "outputs": [
    {
     "data": {
      "image/png": "[encoded data removed]",
      "text/plain": [
       "<Figure size 800x600 with 1 Axes>"
      ]
     },
     "metadata": {},
     "output_type": "display_data"
    }
   ],
   "source": [
    "import matplotlib.pyplot as plt\n",
    "from sklearn.model_selection import learning_curve\n",
    "import numpy as np\n",
    "\n",
    "# 학습 곡선 계산\n",
    "train_sizes, train_scores, test_scores = learning_curve(\n",
    "    clf, X_scaled, y, cv=5, scoring=\"accuracy\",\n",
    "    train_sizes=np.linspace(0.1, 1.0, 10), n_jobs=-1\n",
    ")\n",
    "\n",
    "# 평균 및 표준편차 계산\n",
    "train_mean = np.mean(train_scores, axis=1)\n",
    "train_std = np.std(train_scores, axis=1)\n",
    "test_mean = np.mean(test_scores, axis=1)\n",
    "test_std = np.std(test_scores, axis=1)\n",
    "\n",
    "# 그래프 출력\n",
    "plt.figure(figsize=(8,6))\n",
    "plt.plot(train_sizes, train_mean, 'o-', color=\"r\", label=\"Training accuracy\")\n",
    "plt.plot(train_sizes, test_mean, 'o-', color=\"g\", label=\"Validation accuracy\")\n",
    "\n",
    "# 신뢰 구간 (± 표준편차)\n",
    "plt.fill_between(train_sizes, train_mean - train_std, train_mean + train_std, alpha=0.2, color=\"r\")\n",
    "plt.fill_between(train_sizes, test_mean - test_std, test_mean + test_std, alpha=0.2, color=\"g\")\n",
    "\n",
    "plt.title(\"Learning Curve (RandomForest)\")\n",
    "plt.xlabel(\"Training set size\")\n",
    "plt.ylabel(\"Accuracy\")\n",
    "plt.legend(loc=\"best\")\n",
    "plt.grid(True)\n",
    "plt.show()\n"
   ]
  },
  {
   "cell_type": "code",
   "execution_count": 18,
   "id": "54991a45",
   "metadata": {},
   "outputs": [
    {
     "ename": "NameError",
     "evalue": "name 'best_clf' is not defined",
     "output_type": "error",
     "traceback": [
      "\u001b[1;31m---------------------------------------------------------------------------\u001b[0m",
      "\u001b[1;31mNameError\u001b[0m                                 Traceback (most recent call last)",
      "Cell \u001b[1;32mIn[18], line 7\u001b[0m\n\u001b[0;32m      3\u001b[0m \u001b[38;5;28;01mimport\u001b[39;00m \u001b[38;5;21;01mnumpy\u001b[39;00m \u001b[38;5;28;01mas\u001b[39;00m \u001b[38;5;21;01mnp\u001b[39;00m\n\u001b[0;32m      5\u001b[0m \u001b[38;5;66;03m# 학습 곡선 계산\u001b[39;00m\n\u001b[0;32m      6\u001b[0m train_sizes, train_scores, test_scores \u001b[38;5;241m=\u001b[39m learning_curve(\n\u001b[1;32m----> 7\u001b[0m     best_clf, X_scaled, y, cv\u001b[38;5;241m=\u001b[39m\u001b[38;5;241m5\u001b[39m, scoring\u001b[38;5;241m=\u001b[39m\u001b[38;5;124m\"\u001b[39m\u001b[38;5;124maccuracy\u001b[39m\u001b[38;5;124m\"\u001b[39m,\n\u001b[0;32m      8\u001b[0m     train_sizes\u001b[38;5;241m=\u001b[39mnp\u001b[38;5;241m.\u001b[39mlinspace(\u001b[38;5;241m0.1\u001b[39m, \u001b[38;5;241m1.0\u001b[39m, \u001b[38;5;241m10\u001b[39m), n_jobs\u001b[38;5;241m=\u001b[39m\u001b[38;5;241m-\u001b[39m\u001b[38;5;241m1\u001b[39m\n\u001b[0;32m      9\u001b[0m )\n\u001b[0;32m     11\u001b[0m \u001b[38;5;66;03m# 평균 및 표준편차 계산\u001b[39;00m\n\u001b[0;32m     12\u001b[0m train_mean \u001b[38;5;241m=\u001b[39m np\u001b[38;5;241m.\u001b[39mmean(train_scores, axis\u001b[38;5;241m=\u001b[39m\u001b[38;5;241m1\u001b[39m)\n",
      "\u001b[1;31mNameError\u001b[0m: name 'best_clf' is not defined"
     ]
    }
   ],
   "source": [
    "import matplotlib.pyplot as plt\n",
    "from sklearn.model_selection import learning_curve\n",
    "import numpy as np\n",
    "\n",
    "# 학습 곡선 계산\n",
    "train_sizes, train_scores, test_scores = learning_curve(\n",
    "    best_clf, X_scaled, y, cv=5, scoring=\"accuracy\",\n",
    "    train_sizes=np.linspace(0.1, 1.0, 10), n_jobs=-1\n",
    ")\n",
    "\n",
    "# 평균 및 표준편차 계산\n",
    "train_mean = np.mean(train_scores, axis=1)\n",
    "train_std = np.std(train_scores, axis=1)\n",
    "test_mean = np.mean(test_scores, axis=1)\n",
    "test_std = np.std(test_scores, axis=1)\n",
    "\n",
    "# 그래프 출력\n",
    "plt.figure(figsize=(8,6))\n",
    "plt.plot(train_sizes, train_mean, 'o-', color=\"r\", label=\"Training accuracy\")\n",
    "plt.plot(train_sizes, test_mean, 'o-', color=\"g\", label=\"Validation accuracy\")\n",
    "\n",
    "# 신뢰 구간 (± 표준편차)\n",
    "plt.fill_between(train_sizes, train_mean - train_std, train_mean + train_std, alpha=0.2, color=\"r\")\n",
    "plt.fill_between(train_sizes, test_mean - test_std, test_mean + test_std, alpha=0.2, color=\"g\")\n",
    "\n",
    "plt.title(\"Learning Curve (RandomForest)\")\n",
    "plt.xlabel(\"Training set size\")\n",
    "plt.ylabel(\"Accuracy\")\n",
    "plt.legend(loc=\"best\")\n",
    "plt.grid(True)\n",
    "plt.show()\n"
   ]
  },
  {
   "cell_type": "code",
   "execution_count": 3,
   "id": "7fa9127b",
   "metadata": {},
   "outputs": [
    {
     "name": "stdout",
     "output_type": "stream",
     "text": [
      " * Serving Flask app '__main__'\n",
      " * Debug mode: off\n"
     ]
    },
    {
     "name": "stderr",
     "output_type": "stream",
     "text": [
      "WARNING: This is a development server. Do not use it in a production deployment. Use a production WSGI server instead.\n",
      " * Running on http://localhost:5001\n",
      "Press CTRL+C to quit\n",
      "127.0.0.1 - - [15/Sep/2025 13:42:43] \"POST /detect HTTP/1.1\" 200 -\n"
     ]
    },
    {
     "name": "stdout",
     "output_type": "stream",
     "text": [
      "Received JSON: {'dur': 0.921987, 'sbytes': 1280, 'dbytes': 0, 'ackdat': 0, 'ct_dst_src_ltm': 2, 'ct_flw_http_mthd': 0, 'sloss': 0, 'trans_depth': 0, 'rate': 20.607666, 'ct_src_dport_ltm': 1, 'is_ftp_login': 0, 'dwin': 0, 'ct_srv_src': 1, 'synack': 0, 'state': 'INT', 'dmean': 0, 'sload': 10551.125, 'djit': 0, 'email': 'shin3481@gmail.com', 'spkts': 20, 'is_sm_ips_ports': 0, 'dttl': 0, 'ip': '0:0:0:0:0:0:0:1', 'tcprtt': 0, 'ct_dst_ltm': 1, 'dpkts': 0, 'sttl': 254, 'dinpkt': 0, 'ct_src_ltm': 1, 'ct_ftp_cmd': 0, 'dloss': 0, 'ct_state_ttl': 2, 'service': '-', 'ct_srv_dst': 1, 'proto': 'ospf', 'sjit': 52.253805, 'dload': 0, 'sinpkt': 48.525633, 'response_body_len': 0, 'device': 'PostmanRuntime/7.46.0', 'swin': 0, 'smean': 64, 'ct_dst_sport_ltm': 1}\n"
     ]
    },
    {
     "name": "stderr",
     "output_type": "stream",
     "text": [
      "127.0.0.1 - - [15/Sep/2025 13:44:30] \"POST /detect HTTP/1.1\" 200 -\n"
     ]
    },
    {
     "name": "stdout",
     "output_type": "stream",
     "text": [
      "Received JSON: {'dur': 1.1e-05, 'sbytes': 0, 'dbytes': 0, 'ackdat': 0, 'ct_dst_src_ltm': 1, 'ct_flw_http_mthd': 0, 'sloss': 0, 'trans_depth': 0, 'rate': 0.0, 'ct_src_dport_ltm': 1, 'is_ftp_login': 0, 'dwin': 0, 'ct_srv_src': 1, 'synack': 0, 'state': 'INT', 'dmean': 0, 'sload': 0, 'djit': 0, 'email': 'shin3481@gmail.com', 'spkts': 0, 'is_sm_ips_ports': 0, 'dttl': 0, 'ip': '0:0:0:0:0:0:0:1', 'tcprtt': 0, 'ct_dst_ltm': 1, 'dpkts': 0, 'sttl': 64, 'dinpkt': 0, 'ct_src_ltm': 1, 'ct_ftp_cmd': 0, 'dloss': 0, 'ct_state_ttl': 1, 'service': '-', 'ct_srv_dst': 1, 'proto': 'udp', 'sjit': 0, 'dload': 0, 'sinpkt': 0.011, 'response_body_len': 0, 'device': 'PostmanRuntime/7.46.0', 'swin': 0, 'smean': 0, 'ct_dst_sport_ltm': 1}\n"
     ]
    },
    {
     "name": "stderr",
     "output_type": "stream",
     "text": [
      "127.0.0.1 - - [15/Sep/2025 13:44:50] \"POST /detect HTTP/1.1\" 200 -\n"
     ]
    },
    {
     "name": "stdout",
     "output_type": "stream",
     "text": [
      "Received JSON: {'dur': 0.921987, 'sbytes': 1280, 'dbytes': 0, 'ackdat': 0, 'ct_dst_src_ltm': 2, 'ct_flw_http_mthd': 0, 'sloss': 0, 'trans_depth': 0, 'rate': 20.607666, 'ct_src_dport_ltm': 1, 'is_ftp_login': 0, 'dwin': 0, 'ct_srv_src': 1, 'synack': 0, 'state': 'INT', 'dmean': 0, 'sload': 10551.125, 'djit': 0, 'email': 'shin3481@gmail.com', 'spkts': 20, 'is_sm_ips_ports': 0, 'dttl': 0, 'ip': '0:0:0:0:0:0:0:1', 'tcprtt': 0, 'ct_dst_ltm': 1, 'dpkts': 0, 'sttl': 254, 'dinpkt': 0, 'ct_src_ltm': 1, 'ct_ftp_cmd': 0, 'dloss': 0, 'ct_state_ttl': 2, 'service': '-', 'ct_srv_dst': 1, 'proto': 'ospf', 'sjit': 52.253805, 'dload': 0, 'sinpkt': 48.525633, 'response_body_len': 0, 'device': 'PostmanRuntime/7.46.0', 'swin': 0, 'smean': 64, 'ct_dst_sport_ltm': 1}\n"
     ]
    },
    {
     "name": "stderr",
     "output_type": "stream",
     "text": [
      "127.0.0.1 - - [15/Sep/2025 13:46:49] \"POST /detect HTTP/1.1\" 200 -\n"
     ]
    },
    {
     "name": "stdout",
     "output_type": "stream",
     "text": [
      "Received JSON: {'dur': 1.1e-05, 'sbytes': 0, 'dbytes': 0, 'ackdat': 0, 'ct_dst_src_ltm': 1, 'ct_flw_http_mthd': 0, 'sloss': 0, 'trans_depth': 0, 'rate': 0.0, 'ct_src_dport_ltm': 1, 'is_ftp_login': 0, 'dwin': 0, 'ct_srv_src': 1, 'synack': 0, 'state': 'INT', 'dmean': 0, 'sload': 0, 'djit': 0, 'spkts': 0, 'is_sm_ips_ports': 0, 'dttl': 0, 'tcprtt': 0, 'ct_dst_ltm': 1, 'dpkts': 0, 'sttl': 64, 'dinpkt': 0, 'ct_src_ltm': 1, 'ct_ftp_cmd': 0, 'dloss': 0, 'ct_state_ttl': 1, 'service': '-', 'ct_srv_dst': 1, 'proto': 'udp', 'sjit': 0, 'dload': 0, 'sinpkt': 0.011, 'response_body_len': 0, 'swin': 0, 'smean': 0, 'ct_dst_sport_ltm': 1}\n"
     ]
    },
    {
     "name": "stderr",
     "output_type": "stream",
     "text": [
      "127.0.0.1 - - [15/Sep/2025 13:46:51] \"POST /detect HTTP/1.1\" 200 -\n"
     ]
    },
    {
     "name": "stdout",
     "output_type": "stream",
     "text": [
      "Received JSON: {'dur': 1.1e-05, 'sbytes': 0, 'dbytes': 0, 'ackdat': 0, 'ct_dst_src_ltm': 1, 'ct_flw_http_mthd': 0, 'sloss': 0, 'trans_depth': 0, 'rate': 0.0, 'ct_src_dport_ltm': 1, 'is_ftp_login': 0, 'dwin': 0, 'ct_srv_src': 1, 'synack': 0, 'state': 'INT', 'dmean': 0, 'sload': 0, 'djit': 0, 'email': 'shin3481@gmail.com', 'spkts': 0, 'is_sm_ips_ports': 0, 'dttl': 0, 'ip': '0:0:0:0:0:0:0:1', 'tcprtt': 0, 'ct_dst_ltm': 1, 'dpkts': 0, 'sttl': 64, 'dinpkt': 0, 'ct_src_ltm': 1, 'ct_ftp_cmd': 0, 'dloss': 0, 'ct_state_ttl': 1, 'service': '-', 'ct_srv_dst': 1, 'proto': 'udp', 'sjit': 0, 'dload': 0, 'sinpkt': 0.011, 'response_body_len': 0, 'device': 'PostmanRuntime/7.46.0', 'swin': 0, 'smean': 0, 'ct_dst_sport_ltm': 1}\n"
     ]
    },
    {
     "name": "stderr",
     "output_type": "stream",
     "text": [
      "127.0.0.1 - - [15/Sep/2025 13:47:02] \"POST /detect HTTP/1.1\" 200 -\n"
     ]
    },
    {
     "name": "stdout",
     "output_type": "stream",
     "text": [
      "Received JSON: {'dur': 0.921987, 'sbytes': 1280, 'dbytes': 0, 'ackdat': 0, 'ct_dst_src_ltm': 2, 'ct_flw_http_mthd': 0, 'sloss': 0, 'trans_depth': 0, 'rate': 20.607666, 'ct_src_dport_ltm': 1, 'is_ftp_login': 0, 'dwin': 0, 'ct_srv_src': 1, 'synack': 0, 'state': 'INT', 'dmean': 0, 'sload': 10551.125, 'djit': 0, 'email': 'shin3481@gmail.com', 'spkts': 20, 'is_sm_ips_ports': 0, 'dttl': 0, 'ip': '0:0:0:0:0:0:0:1', 'tcprtt': 0, 'ct_dst_ltm': 1, 'dpkts': 0, 'sttl': 254, 'dinpkt': 0, 'ct_src_ltm': 1, 'ct_ftp_cmd': 0, 'dloss': 0, 'ct_state_ttl': 2, 'service': '-', 'ct_srv_dst': 1, 'proto': 'ospf', 'sjit': 52.253805, 'dload': 0, 'sinpkt': 48.525633, 'response_body_len': 0, 'device': 'PostmanRuntime/7.46.0', 'swin': 0, 'smean': 64, 'ct_dst_sport_ltm': 1}\n"
     ]
    },
    {
     "name": "stderr",
     "output_type": "stream",
     "text": [
      "127.0.0.1 - - [15/Sep/2025 13:54:23] \"POST /detect HTTP/1.1\" 200 -\n"
     ]
    },
    {
     "name": "stdout",
     "output_type": "stream",
     "text": [
      "Received JSON: {'dur': 0.921987, 'sbytes': 1280, 'dbytes': 0, 'ackdat': 0, 'ct_dst_src_ltm': 2, 'ct_flw_http_mthd': 0, 'sloss': 0, 'trans_depth': 0, 'rate': 20.607666, 'ct_src_dport_ltm': 1, 'is_ftp_login': 0, 'dwin': 0, 'ct_srv_src': 1, 'synack': 0, 'state': 'INT', 'dmean': 0, 'sload': 10551.125, 'djit': 0, 'email': 'shin3481@gmail.com', 'spkts': 20, 'is_sm_ips_ports': 0, 'dttl': 0, 'ip': '0:0:0:0:0:0:0:1', 'tcprtt': 0, 'ct_dst_ltm': 1, 'dpkts': 0, 'sttl': 254, 'dinpkt': 0, 'ct_src_ltm': 1, 'ct_ftp_cmd': 0, 'dloss': 0, 'ct_state_ttl': 2, 'service': '-', 'ct_srv_dst': 1, 'proto': 'ospf', 'sjit': 52.253805, 'dload': 0, 'sinpkt': 48.525633, 'response_body_len': 0, 'device': 'PostmanRuntime/7.46.0', 'swin': 0, 'smean': 64, 'ct_dst_sport_ltm': 1}\n"
     ]
    },
    {
     "name": "stderr",
     "output_type": "stream",
     "text": [
      "127.0.0.1 - - [15/Sep/2025 13:57:34] \"POST /detect HTTP/1.1\" 200 -\n"
     ]
    },
    {
     "name": "stdout",
     "output_type": "stream",
     "text": [
      "Received JSON: {'dur': 1.1e-05, 'sbytes': 0, 'dbytes': 0, 'ackdat': 0, 'ct_dst_src_ltm': 1, 'ct_flw_http_mthd': 0, 'sloss': 0, 'trans_depth': 0, 'rate': 0.0, 'ct_src_dport_ltm': 1, 'is_ftp_login': 0, 'dwin': 0, 'ct_srv_src': 1, 'synack': 0, 'state': 'INT', 'dmean': 0, 'sload': 0, 'djit': 0, 'spkts': 0, 'is_sm_ips_ports': 0, 'dttl': 0, 'tcprtt': 0, 'ct_dst_ltm': 1, 'dpkts': 0, 'sttl': 64, 'dinpkt': 0, 'ct_src_ltm': 1, 'ct_ftp_cmd': 0, 'dloss': 0, 'ct_state_ttl': 1, 'service': '-', 'ct_srv_dst': 1, 'proto': 'udp', 'sjit': 0, 'dload': 0, 'sinpkt': 0.011, 'response_body_len': 0, 'swin': 0, 'smean': 0, 'ct_dst_sport_ltm': 1}\n"
     ]
    },
    {
     "name": "stderr",
     "output_type": "stream",
     "text": [
      "127.0.0.1 - - [15/Sep/2025 13:57:48] \"POST /detect HTTP/1.1\" 200 -\n"
     ]
    },
    {
     "name": "stdout",
     "output_type": "stream",
     "text": [
      "Received JSON: {'dur': 0.921987, 'sbytes': 1280, 'dbytes': 0, 'ackdat': 0, 'ct_dst_src_ltm': 2, 'ct_flw_http_mthd': 0, 'sloss': 0, 'trans_depth': 0, 'rate': 20.607666, 'ct_src_dport_ltm': 1, 'is_ftp_login': 0, 'dwin': 0, 'ct_srv_src': 1, 'synack': 0, 'state': 'INT', 'dmean': 0, 'sload': 10551.125, 'djit': 0, 'email': 'shin3481@gmail.com', 'spkts': 20, 'is_sm_ips_ports': 0, 'dttl': 0, 'ip': '0:0:0:0:0:0:0:1', 'tcprtt': 0, 'ct_dst_ltm': 1, 'dpkts': 0, 'sttl': 254, 'dinpkt': 0, 'ct_src_ltm': 1, 'ct_ftp_cmd': 0, 'dloss': 0, 'ct_state_ttl': 2, 'service': '-', 'ct_srv_dst': 1, 'proto': 'ospf', 'sjit': 52.253805, 'dload': 0, 'sinpkt': 48.525633, 'response_body_len': 0, 'device': 'PostmanRuntime/7.46.0', 'swin': 0, 'smean': 64, 'ct_dst_sport_ltm': 1}\n"
     ]
    },
    {
     "name": "stderr",
     "output_type": "stream",
     "text": [
      "127.0.0.1 - - [15/Sep/2025 14:00:56] \"POST /detect HTTP/1.1\" 200 -\n"
     ]
    },
    {
     "name": "stdout",
     "output_type": "stream",
     "text": [
      "Received JSON: {'dur': 1.1e-05, 'sbytes': 0, 'dbytes': 0, 'ackdat': 0, 'ct_dst_src_ltm': 1, 'ct_flw_http_mthd': 0, 'sloss': 0, 'trans_depth': 0, 'rate': 0.0, 'ct_src_dport_ltm': 1, 'is_ftp_login': 0, 'dwin': 0, 'ct_srv_src': 1, 'synack': 0, 'state': 'INT', 'dmean': 0, 'sload': 0, 'djit': 0, 'spkts': 0, 'is_sm_ips_ports': 0, 'dttl': 0, 'tcprtt': 0, 'ct_dst_ltm': 1, 'dpkts': 0, 'sttl': 64, 'dinpkt': 0, 'ct_src_ltm': 1, 'ct_ftp_cmd': 0, 'dloss': 0, 'ct_state_ttl': 1, 'service': '-', 'ct_srv_dst': 1, 'proto': 'udp', 'sjit': 0, 'dload': 0, 'sinpkt': 0.011, 'response_body_len': 0, 'swin': 0, 'smean': 0, 'ct_dst_sport_ltm': 1}\n"
     ]
    },
    {
     "name": "stderr",
     "output_type": "stream",
     "text": [
      "127.0.0.1 - - [15/Sep/2025 14:01:19] \"POST /detect HTTP/1.1\" 200 -\n"
     ]
    },
    {
     "name": "stdout",
     "output_type": "stream",
     "text": [
      "Received JSON: {'dur': 1.1e-05, 'sbytes': 0, 'dbytes': 0, 'ackdat': 0, 'ct_dst_src_ltm': 1, 'ct_flw_http_mthd': 0, 'sloss': 0, 'trans_depth': 0, 'rate': 0.0, 'ct_src_dport_ltm': 1, 'is_ftp_login': 0, 'dwin': 0, 'ct_srv_src': 1, 'synack': 0, 'state': 'INT', 'dmean': 0, 'sload': 0, 'djit': 0, 'email': 'shin3481@gmail.com', 'spkts': 0, 'is_sm_ips_ports': 0, 'dttl': 0, 'ip': '0:0:0:0:0:0:0:1', 'tcprtt': 0, 'ct_dst_ltm': 1, 'dpkts': 0, 'sttl': 64, 'dinpkt': 0, 'ct_src_ltm': 1, 'ct_ftp_cmd': 0, 'dloss': 0, 'ct_state_ttl': 1, 'service': '-', 'ct_srv_dst': 1, 'proto': 'udp', 'sjit': 0, 'dload': 0, 'sinpkt': 0.011, 'response_body_len': 0, 'device': 'PostmanRuntime/7.46.0', 'swin': 0, 'smean': 0, 'ct_dst_sport_ltm': 1}\n"
     ]
    },
    {
     "name": "stderr",
     "output_type": "stream",
     "text": [
      "127.0.0.1 - - [15/Sep/2025 14:01:52] \"POST /detect HTTP/1.1\" 200 -\n"
     ]
    },
    {
     "name": "stdout",
     "output_type": "stream",
     "text": [
      "Received JSON: {'dur': 0.921987, 'sbytes': 1280, 'dbytes': 0, 'ackdat': 0, 'ct_dst_src_ltm': 2, 'ct_flw_http_mthd': 0, 'sloss': 0, 'trans_depth': 0, 'rate': 20.607666, 'ct_src_dport_ltm': 1, 'is_ftp_login': 0, 'dwin': 0, 'ct_srv_src': 1, 'synack': 0, 'state': 'INT', 'dmean': 0, 'sload': 10551.125, 'djit': 0, 'email': 'shin3481@gmail.com', 'spkts': 20, 'is_sm_ips_ports': 0, 'dttl': 0, 'ip': '0:0:0:0:0:0:0:1', 'tcprtt': 0, 'ct_dst_ltm': 1, 'dpkts': 0, 'sttl': 254, 'dinpkt': 0, 'ct_src_ltm': 1, 'ct_ftp_cmd': 0, 'dloss': 0, 'ct_state_ttl': 2, 'service': '-', 'ct_srv_dst': 1, 'proto': 'ospf', 'sjit': 52.253805, 'dload': 0, 'sinpkt': 48.525633, 'response_body_len': 0, 'device': 'PostmanRuntime/7.46.0', 'swin': 0, 'smean': 64, 'ct_dst_sport_ltm': 1}\n"
     ]
    },
    {
     "name": "stderr",
     "output_type": "stream",
     "text": [
      "127.0.0.1 - - [15/Sep/2025 14:02:37] \"POST /detect HTTP/1.1\" 200 -\n"
     ]
    },
    {
     "name": "stdout",
     "output_type": "stream",
     "text": [
      "Received JSON: {'dur': 1.1e-05, 'sbytes': 0, 'dbytes': 0, 'ackdat': 0, 'ct_dst_src_ltm': 1, 'ct_flw_http_mthd': 0, 'sloss': 0, 'trans_depth': 0, 'rate': 0.0, 'ct_src_dport_ltm': 1, 'is_ftp_login': 0, 'dwin': 0, 'ct_srv_src': 1, 'synack': 0, 'state': 'INT', 'dmean': 0, 'sload': 0, 'djit': 0, 'spkts': 0, 'is_sm_ips_ports': 0, 'dttl': 0, 'tcprtt': 0, 'ct_dst_ltm': 1, 'dpkts': 0, 'sttl': 64, 'dinpkt': 0, 'ct_src_ltm': 1, 'ct_ftp_cmd': 0, 'dloss': 0, 'ct_state_ttl': 1, 'service': '-', 'ct_srv_dst': 1, 'proto': 'udp', 'sjit': 0, 'dload': 0, 'sinpkt': 0.011, 'response_body_len': 0, 'swin': 0, 'smean': 0, 'ct_dst_sport_ltm': 1}\n"
     ]
    },
    {
     "name": "stderr",
     "output_type": "stream",
     "text": [
      "127.0.0.1 - - [15/Sep/2025 14:02:42] \"POST /detect HTTP/1.1\" 200 -\n"
     ]
    },
    {
     "name": "stdout",
     "output_type": "stream",
     "text": [
      "Received JSON: {'dur': 1.1e-05, 'sbytes': 0, 'dbytes': 0, 'ackdat': 0, 'ct_dst_src_ltm': 1, 'ct_flw_http_mthd': 0, 'sloss': 0, 'trans_depth': 0, 'rate': 0.0, 'ct_src_dport_ltm': 1, 'is_ftp_login': 0, 'dwin': 0, 'ct_srv_src': 1, 'synack': 0, 'state': 'INT', 'dmean': 0, 'sload': 0, 'djit': 0, 'email': 'shin3481@gmail.com', 'spkts': 0, 'is_sm_ips_ports': 0, 'dttl': 0, 'ip': '0:0:0:0:0:0:0:1', 'tcprtt': 0, 'ct_dst_ltm': 1, 'dpkts': 0, 'sttl': 64, 'dinpkt': 0, 'ct_src_ltm': 1, 'ct_ftp_cmd': 0, 'dloss': 0, 'ct_state_ttl': 1, 'service': '-', 'ct_srv_dst': 1, 'proto': 'udp', 'sjit': 0, 'dload': 0, 'sinpkt': 0.011, 'response_body_len': 0, 'device': 'PostmanRuntime/7.46.0', 'swin': 0, 'smean': 0, 'ct_dst_sport_ltm': 1}\n"
     ]
    },
    {
     "name": "stderr",
     "output_type": "stream",
     "text": [
      "127.0.0.1 - - [15/Sep/2025 14:02:53] \"POST /detect HTTP/1.1\" 200 -\n"
     ]
    },
    {
     "name": "stdout",
     "output_type": "stream",
     "text": [
      "Received JSON: {'dur': 1.1e-05, 'sbytes': 0, 'dbytes': 0, 'ackdat': 0, 'ct_dst_src_ltm': 1, 'ct_flw_http_mthd': 0, 'sloss': 0, 'trans_depth': 0, 'rate': 0.0, 'ct_src_dport_ltm': 1, 'is_ftp_login': 0, 'dwin': 0, 'ct_srv_src': 1, 'synack': 0, 'state': 'INT', 'dmean': 0, 'sload': 0, 'djit': 0, 'email': 'shin3481@gmail.com', 'spkts': 0, 'is_sm_ips_ports': 0, 'dttl': 0, 'ip': '0:0:0:0:0:0:0:1', 'tcprtt': 0, 'ct_dst_ltm': 1, 'dpkts': 0, 'sttl': 64, 'dinpkt': 0, 'ct_src_ltm': 1, 'ct_ftp_cmd': 0, 'dloss': 0, 'ct_state_ttl': 1, 'service': '-', 'ct_srv_dst': 1, 'proto': 'udp', 'sjit': 0, 'dload': 0, 'sinpkt': 0.011, 'response_body_len': 0, 'device': 'PostmanRuntime/7.46.0', 'swin': 0, 'smean': 0, 'ct_dst_sport_ltm': 1}\n"
     ]
    },
    {
     "name": "stderr",
     "output_type": "stream",
     "text": [
      "127.0.0.1 - - [15/Sep/2025 14:03:07] \"POST /detect HTTP/1.1\" 200 -\n"
     ]
    },
    {
     "name": "stdout",
     "output_type": "stream",
     "text": [
      "Received JSON: {'dur': 1.1e-05, 'sbytes': 0, 'dbytes': 0, 'ackdat': 0, 'ct_dst_src_ltm': 1, 'ct_flw_http_mthd': 0, 'sloss': 0, 'trans_depth': 0, 'rate': 0.0, 'ct_src_dport_ltm': 1, 'is_ftp_login': 0, 'dwin': 0, 'ct_srv_src': 1, 'synack': 0, 'state': 'INT', 'dmean': 0, 'sload': 0, 'djit': 0, 'email': 'shin3481@gmail.com', 'spkts': 0, 'is_sm_ips_ports': 0, 'dttl': 0, 'ip': '0:0:0:0:0:0:0:1', 'tcprtt': 0, 'ct_dst_ltm': 1, 'dpkts': 0, 'sttl': 64, 'dinpkt': 0, 'ct_src_ltm': 1, 'ct_ftp_cmd': 0, 'dloss': 0, 'ct_state_ttl': 1, 'service': '-', 'ct_srv_dst': 1, 'proto': 'udp', 'sjit': 0, 'dload': 0, 'sinpkt': 0.011, 'response_body_len': 0, 'device': 'PostmanRuntime/7.46.0', 'swin': 0, 'smean': 0, 'ct_dst_sport_ltm': 1}\n"
     ]
    },
    {
     "name": "stderr",
     "output_type": "stream",
     "text": [
      "127.0.0.1 - - [15/Sep/2025 14:16:54] \"POST /detect HTTP/1.1\" 200 -\n"
     ]
    },
    {
     "name": "stdout",
     "output_type": "stream",
     "text": [
      "Received JSON: {'dur': 1.1e-05, 'sbytes': 0, 'dbytes': 0, 'ackdat': 0, 'ct_dst_src_ltm': 1, 'ct_flw_http_mthd': 0, 'sloss': 0, 'trans_depth': 0, 'rate': 0.0, 'ct_src_dport_ltm': 1, 'is_ftp_login': 0, 'dwin': 0, 'ct_srv_src': 1, 'synack': 0, 'state': 'INT', 'dmean': 0, 'sload': 0, 'djit': 0, 'spkts': 0, 'is_sm_ips_ports': 0, 'dttl': 0, 'tcprtt': 0, 'ct_dst_ltm': 1, 'dpkts': 0, 'sttl': 64, 'dinpkt': 0, 'ct_src_ltm': 1, 'ct_ftp_cmd': 0, 'dloss': 0, 'ct_state_ttl': 1, 'service': '-', 'ct_srv_dst': 1, 'proto': 'udp', 'sjit': 0, 'dload': 0, 'sinpkt': 0.011, 'response_body_len': 0, 'swin': 0, 'smean': 0, 'ct_dst_sport_ltm': 1}\n"
     ]
    },
    {
     "name": "stderr",
     "output_type": "stream",
     "text": [
      "127.0.0.1 - - [15/Sep/2025 14:17:03] \"POST /detect HTTP/1.1\" 200 -\n"
     ]
    },
    {
     "name": "stdout",
     "output_type": "stream",
     "text": [
      "Received JSON: {'dur': 1.1e-05, 'sbytes': 0, 'dbytes': 0, 'ackdat': 0, 'ct_dst_src_ltm': 1, 'ct_flw_http_mthd': 0, 'sloss': 0, 'trans_depth': 0, 'rate': 0.0, 'ct_src_dport_ltm': 1, 'is_ftp_login': 0, 'dwin': 0, 'ct_srv_src': 1, 'synack': 0, 'state': 'INT', 'dmean': 0, 'sload': 0, 'djit': 0, 'email': 'shin3481@gmail.com', 'spkts': 0, 'is_sm_ips_ports': 0, 'dttl': 0, 'ip': '0:0:0:0:0:0:0:1', 'tcprtt': 0, 'ct_dst_ltm': 1, 'dpkts': 0, 'sttl': 64, 'dinpkt': 0, 'ct_src_ltm': 1, 'ct_ftp_cmd': 0, 'dloss': 0, 'ct_state_ttl': 1, 'service': '-', 'ct_srv_dst': 1, 'proto': 'udp', 'sjit': 0, 'dload': 0, 'sinpkt': 0.011, 'response_body_len': 0, 'device': 'PostmanRuntime/7.46.0', 'swin': 0, 'smean': 0, 'ct_dst_sport_ltm': 1}\n"
     ]
    },
    {
     "name": "stderr",
     "output_type": "stream",
     "text": [
      "127.0.0.1 - - [15/Sep/2025 14:31:12] \"POST /detect HTTP/1.1\" 200 -\n"
     ]
    },
    {
     "name": "stdout",
     "output_type": "stream",
     "text": [
      "Received JSON: {'dur': 1.1e-05, 'sbytes': 0, 'dbytes': 0, 'ackdat': 0, 'ct_dst_src_ltm': 1, 'ct_flw_http_mthd': 0, 'sloss': 0, 'trans_depth': 0, 'rate': 0.0, 'ct_src_dport_ltm': 1, 'is_ftp_login': 0, 'dwin': 0, 'ct_srv_src': 1, 'synack': 0, 'state': 'INT', 'dmean': 0, 'sload': 0, 'djit': 0, 'spkts': 0, 'is_sm_ips_ports': 0, 'dttl': 0, 'tcprtt': 0, 'ct_dst_ltm': 1, 'dpkts': 0, 'sttl': 64, 'dinpkt': 0, 'ct_src_ltm': 1, 'ct_ftp_cmd': 0, 'dloss': 0, 'ct_state_ttl': 1, 'service': '-', 'ct_srv_dst': 1, 'proto': 'udp', 'sjit': 0, 'dload': 0, 'sinpkt': 0.011, 'response_body_len': 0, 'swin': 0, 'smean': 0, 'ct_dst_sport_ltm': 1}\n"
     ]
    },
    {
     "name": "stderr",
     "output_type": "stream",
     "text": [
      "127.0.0.1 - - [15/Sep/2025 14:31:22] \"POST /detect HTTP/1.1\" 200 -\n"
     ]
    },
    {
     "name": "stdout",
     "output_type": "stream",
     "text": [
      "Received JSON: {'dur': 1.1e-05, 'sbytes': 0, 'dbytes': 0, 'ackdat': 0, 'ct_dst_src_ltm': 1, 'ct_flw_http_mthd': 0, 'sloss': 0, 'trans_depth': 0, 'rate': 0.0, 'ct_src_dport_ltm': 1, 'is_ftp_login': 0, 'dwin': 0, 'ct_srv_src': 1, 'synack': 0, 'state': 'INT', 'dmean': 0, 'sload': 0, 'djit': 0, 'spkts': 0, 'is_sm_ips_ports': 0, 'dttl': 0, 'tcprtt': 0, 'ct_dst_ltm': 1, 'dpkts': 0, 'sttl': 64, 'dinpkt': 0, 'ct_src_ltm': 1, 'ct_ftp_cmd': 0, 'dloss': 0, 'ct_state_ttl': 1, 'service': '-', 'ct_srv_dst': 1, 'proto': 'udp', 'sjit': 0, 'dload': 0, 'sinpkt': 0.011, 'response_body_len': 0, 'swin': 0, 'smean': 0, 'ct_dst_sport_ltm': 1}\n"
     ]
    },
    {
     "name": "stderr",
     "output_type": "stream",
     "text": [
      "127.0.0.1 - - [15/Sep/2025 14:31:34] \"POST /detect HTTP/1.1\" 200 -\n"
     ]
    },
    {
     "name": "stdout",
     "output_type": "stream",
     "text": [
      "Received JSON: {'dur': 1.1e-05, 'sbytes': 0, 'dbytes': 0, 'ackdat': 0, 'ct_dst_src_ltm': 1, 'ct_flw_http_mthd': 0, 'sloss': 0, 'trans_depth': 0, 'rate': 0.0, 'ct_src_dport_ltm': 1, 'is_ftp_login': 0, 'dwin': 0, 'ct_srv_src': 1, 'synack': 0, 'state': 'INT', 'dmean': 0, 'sload': 0, 'djit': 0, 'email': 'shin3481@gmail.com', 'spkts': 0, 'is_sm_ips_ports': 0, 'dttl': 0, 'ip': '0:0:0:0:0:0:0:1', 'tcprtt': 0, 'ct_dst_ltm': 1, 'dpkts': 0, 'sttl': 64, 'dinpkt': 0, 'ct_src_ltm': 1, 'ct_ftp_cmd': 0, 'dloss': 0, 'ct_state_ttl': 1, 'service': '-', 'ct_srv_dst': 1, 'proto': 'udp', 'sjit': 0, 'dload': 0, 'sinpkt': 0.011, 'response_body_len': 0, 'device': 'PostmanRuntime/7.46.0', 'swin': 0, 'smean': 0, 'ct_dst_sport_ltm': 1}\n"
     ]
    },
    {
     "name": "stderr",
     "output_type": "stream",
     "text": [
      "127.0.0.1 - - [15/Sep/2025 14:32:02] \"POST /detect HTTP/1.1\" 200 -\n"
     ]
    },
    {
     "name": "stdout",
     "output_type": "stream",
     "text": [
      "Received JSON: {'dur': 1.1e-05, 'sbytes': 0, 'dbytes': 0, 'ackdat': 0, 'ct_dst_src_ltm': 1, 'ct_flw_http_mthd': 0, 'sloss': 0, 'trans_depth': 0, 'rate': 0.0, 'ct_src_dport_ltm': 1, 'is_ftp_login': 0, 'dwin': 0, 'ct_srv_src': 1, 'synack': 0, 'state': 'INT', 'dmean': 0, 'sload': 0, 'djit': 0, 'email': 'shin3481@gmail.com', 'spkts': 0, 'is_sm_ips_ports': 0, 'dttl': 0, 'ip': '0:0:0:0:0:0:0:1', 'tcprtt': 0, 'ct_dst_ltm': 1, 'dpkts': 0, 'sttl': 64, 'dinpkt': 0, 'ct_src_ltm': 1, 'ct_ftp_cmd': 0, 'dloss': 0, 'ct_state_ttl': 1, 'service': '-', 'ct_srv_dst': 1, 'proto': 'udp', 'sjit': 0, 'dload': 0, 'sinpkt': 0.011, 'response_body_len': 0, 'device': 'PostmanRuntime/7.46.0', 'swin': 0, 'smean': 0, 'ct_dst_sport_ltm': 1}\n"
     ]
    },
    {
     "name": "stderr",
     "output_type": "stream",
     "text": [
      "127.0.0.1 - - [15/Sep/2025 14:34:35] \"POST /detect HTTP/1.1\" 200 -\n"
     ]
    },
    {
     "name": "stdout",
     "output_type": "stream",
     "text": [
      "Received JSON: {'dur': 1.1e-05, 'sbytes': 0, 'dbytes': 0, 'ackdat': 0, 'ct_dst_src_ltm': 1, 'ct_flw_http_mthd': 0, 'sloss': 0, 'trans_depth': 0, 'rate': 0.0, 'ct_src_dport_ltm': 1, 'is_ftp_login': 0, 'dwin': 0, 'ct_srv_src': 1, 'synack': 0, 'state': 'INT', 'dmean': 0, 'sload': 0, 'djit': 0, 'spkts': 0, 'is_sm_ips_ports': 0, 'dttl': 0, 'tcprtt': 0, 'ct_dst_ltm': 1, 'dpkts': 0, 'sttl': 64, 'dinpkt': 0, 'ct_src_ltm': 1, 'ct_ftp_cmd': 0, 'dloss': 0, 'ct_state_ttl': 1, 'service': '-', 'ct_srv_dst': 1, 'proto': 'udp', 'sjit': 0, 'dload': 0, 'sinpkt': 0.011, 'response_body_len': 0, 'swin': 0, 'smean': 0, 'ct_dst_sport_ltm': 1}\n"
     ]
    },
    {
     "name": "stderr",
     "output_type": "stream",
     "text": [
      "127.0.0.1 - - [15/Sep/2025 14:34:39] \"POST /detect HTTP/1.1\" 200 -\n"
     ]
    },
    {
     "name": "stdout",
     "output_type": "stream",
     "text": [
      "Received JSON: {'dur': 1.1e-05, 'sbytes': 0, 'dbytes': 0, 'ackdat': 0, 'ct_dst_src_ltm': 1, 'ct_flw_http_mthd': 0, 'sloss': 0, 'trans_depth': 0, 'rate': 0.0, 'ct_src_dport_ltm': 1, 'is_ftp_login': 0, 'dwin': 0, 'ct_srv_src': 1, 'synack': 0, 'state': 'INT', 'dmean': 0, 'sload': 0, 'djit': 0, 'spkts': 0, 'is_sm_ips_ports': 0, 'dttl': 0, 'tcprtt': 0, 'ct_dst_ltm': 1, 'dpkts': 0, 'sttl': 64, 'dinpkt': 0, 'ct_src_ltm': 1, 'ct_ftp_cmd': 0, 'dloss': 0, 'ct_state_ttl': 1, 'service': '-', 'ct_srv_dst': 1, 'proto': 'udp', 'sjit': 0, 'dload': 0, 'sinpkt': 0.011, 'response_body_len': 0, 'swin': 0, 'smean': 0, 'ct_dst_sport_ltm': 1}\n"
     ]
    },
    {
     "name": "stderr",
     "output_type": "stream",
     "text": [
      "127.0.0.1 - - [15/Sep/2025 14:35:16] \"POST /detect HTTP/1.1\" 200 -\n"
     ]
    },
    {
     "name": "stdout",
     "output_type": "stream",
     "text": [
      "Received JSON: {'dur': 1.1e-05, 'sbytes': 0, 'dbytes': 0, 'ackdat': 0, 'ct_dst_src_ltm': 1, 'ct_flw_http_mthd': 0, 'sloss': 0, 'trans_depth': 0, 'rate': 0.0, 'ct_src_dport_ltm': 1, 'is_ftp_login': 0, 'dwin': 0, 'ct_srv_src': 1, 'synack': 0, 'state': 'INT', 'dmean': 0, 'sload': 0, 'djit': 0, 'spkts': 0, 'is_sm_ips_ports': 0, 'dttl': 0, 'tcprtt': 0, 'ct_dst_ltm': 1, 'dpkts': 0, 'sttl': 64, 'dinpkt': 0, 'ct_src_ltm': 1, 'ct_ftp_cmd': 0, 'dloss': 0, 'ct_state_ttl': 1, 'service': '-', 'ct_srv_dst': 1, 'proto': 'udp', 'sjit': 0, 'dload': 0, 'sinpkt': 0.011, 'response_body_len': 0, 'swin': 0, 'smean': 0, 'ct_dst_sport_ltm': 1}\n"
     ]
    },
    {
     "name": "stderr",
     "output_type": "stream",
     "text": [
      "127.0.0.1 - - [15/Sep/2025 14:35:19] \"POST /detect HTTP/1.1\" 200 -\n"
     ]
    },
    {
     "name": "stdout",
     "output_type": "stream",
     "text": [
      "Received JSON: {'dur': 0.921987, 'sbytes': 1280, 'dbytes': 0, 'ackdat': 0, 'ct_dst_src_ltm': 2, 'ct_flw_http_mthd': 0, 'sloss': 0, 'trans_depth': 0, 'rate': 20.607666, 'ct_src_dport_ltm': 1, 'is_ftp_login': 0, 'dwin': 0, 'ct_srv_src': 1, 'synack': 0, 'state': 'INT', 'dmean': 0, 'sload': 10551.125, 'djit': 0, 'spkts': 20, 'is_sm_ips_ports': 0, 'dttl': 0, 'tcprtt': 0, 'ct_dst_ltm': 1, 'dpkts': 0, 'sttl': 254, 'dinpkt': 0, 'ct_src_ltm': 1, 'ct_ftp_cmd': 0, 'dloss': 0, 'ct_state_ttl': 2, 'service': '-', 'ct_srv_dst': 1, 'proto': 'ospf', 'sjit': 52.253805, 'dload': 0, 'sinpkt': 48.525633, 'response_body_len': 0, 'swin': 0, 'smean': 64, 'ct_dst_sport_ltm': 1}\n"
     ]
    },
    {
     "name": "stderr",
     "output_type": "stream",
     "text": [
      "127.0.0.1 - - [15/Sep/2025 14:41:21] \"POST /detect HTTP/1.1\" 200 -\n"
     ]
    },
    {
     "name": "stdout",
     "output_type": "stream",
     "text": [
      "Received JSON: {'dur': 1.1e-05, 'sbytes': 0, 'dbytes': 0, 'ackdat': 0, 'ct_dst_src_ltm': 1, 'ct_flw_http_mthd': 0, 'sloss': 0, 'trans_depth': 0, 'rate': 0.0, 'ct_src_dport_ltm': 1, 'is_ftp_login': 0, 'dwin': 0, 'ct_srv_src': 1, 'synack': 0, 'state': 'INT', 'dmean': 0, 'sload': 0, 'djit': 0, 'spkts': 0, 'is_sm_ips_ports': 0, 'dttl': 0, 'tcprtt': 0, 'ct_dst_ltm': 1, 'dpkts': 0, 'sttl': 64, 'dinpkt': 0, 'ct_src_ltm': 1, 'ct_ftp_cmd': 0, 'dloss': 0, 'ct_state_ttl': 1, 'service': '-', 'ct_srv_dst': 1, 'proto': 'udp', 'sjit': 0, 'dload': 0, 'sinpkt': 0.011, 'response_body_len': 0, 'swin': 0, 'smean': 0, 'ct_dst_sport_ltm': 1}\n"
     ]
    },
    {
     "name": "stderr",
     "output_type": "stream",
     "text": [
      "127.0.0.1 - - [15/Sep/2025 14:41:28] \"POST /detect HTTP/1.1\" 200 -\n"
     ]
    },
    {
     "name": "stdout",
     "output_type": "stream",
     "text": [
      "Received JSON: {'dur': 0.921987, 'sbytes': 1280, 'dbytes': 0, 'ackdat': 0, 'ct_dst_src_ltm': 2, 'ct_flw_http_mthd': 0, 'sloss': 0, 'trans_depth': 0, 'rate': 20.607666, 'ct_src_dport_ltm': 1, 'is_ftp_login': 0, 'dwin': 0, 'ct_srv_src': 1, 'synack': 0, 'state': 'INT', 'dmean': 0, 'sload': 10551.125, 'djit': 0, 'spkts': 20, 'is_sm_ips_ports': 0, 'dttl': 0, 'tcprtt': 0, 'ct_dst_ltm': 1, 'dpkts': 0, 'sttl': 254, 'dinpkt': 0, 'ct_src_ltm': 1, 'ct_ftp_cmd': 0, 'dloss': 0, 'ct_state_ttl': 2, 'service': '-', 'ct_srv_dst': 1, 'proto': 'ospf', 'sjit': 52.253805, 'dload': 0, 'sinpkt': 48.525633, 'response_body_len': 0, 'swin': 0, 'smean': 64, 'ct_dst_sport_ltm': 1}\n"
     ]
    },
    {
     "name": "stderr",
     "output_type": "stream",
     "text": [
      "127.0.0.1 - - [15/Sep/2025 14:42:41] \"POST /detect HTTP/1.1\" 200 -\n"
     ]
    },
    {
     "name": "stdout",
     "output_type": "stream",
     "text": [
      "Received JSON: {'dur': 1.1e-05, 'sbytes': 0, 'dbytes': 0, 'ackdat': 0, 'ct_dst_src_ltm': 1, 'ct_flw_http_mthd': 0, 'sloss': 0, 'trans_depth': 0, 'rate': 0.0, 'ct_src_dport_ltm': 1, 'is_ftp_login': 0, 'dwin': 0, 'ct_srv_src': 1, 'synack': 0, 'state': 'INT', 'dmean': 0, 'sload': 0, 'djit': 0, 'spkts': 0, 'is_sm_ips_ports': 0, 'dttl': 0, 'tcprtt': 0, 'ct_dst_ltm': 1, 'dpkts': 0, 'sttl': 64, 'dinpkt': 0, 'ct_src_ltm': 1, 'ct_ftp_cmd': 0, 'dloss': 0, 'ct_state_ttl': 1, 'service': '-', 'ct_srv_dst': 1, 'proto': 'udp', 'sjit': 0, 'dload': 0, 'sinpkt': 0.011, 'response_body_len': 0, 'swin': 0, 'smean': 0, 'ct_dst_sport_ltm': 1}\n"
     ]
    },
    {
     "name": "stderr",
     "output_type": "stream",
     "text": [
      "127.0.0.1 - - [15/Sep/2025 14:42:45] \"POST /detect HTTP/1.1\" 200 -\n"
     ]
    },
    {
     "name": "stdout",
     "output_type": "stream",
     "text": [
      "Received JSON: {'dur': 0.921987, 'sbytes': 1280, 'dbytes': 0, 'ackdat': 0, 'ct_dst_src_ltm': 2, 'ct_flw_http_mthd': 0, 'sloss': 0, 'trans_depth': 0, 'rate': 20.607666, 'ct_src_dport_ltm': 1, 'is_ftp_login': 0, 'dwin': 0, 'ct_srv_src': 1, 'synack': 0, 'state': 'INT', 'dmean': 0, 'sload': 10551.125, 'djit': 0, 'spkts': 20, 'is_sm_ips_ports': 0, 'dttl': 0, 'tcprtt': 0, 'ct_dst_ltm': 1, 'dpkts': 0, 'sttl': 254, 'dinpkt': 0, 'ct_src_ltm': 1, 'ct_ftp_cmd': 0, 'dloss': 0, 'ct_state_ttl': 2, 'service': '-', 'ct_srv_dst': 1, 'proto': 'ospf', 'sjit': 52.253805, 'dload': 0, 'sinpkt': 48.525633, 'response_body_len': 0, 'swin': 0, 'smean': 64, 'ct_dst_sport_ltm': 1}\n"
     ]
    },
    {
     "name": "stderr",
     "output_type": "stream",
     "text": [
      "127.0.0.1 - - [15/Sep/2025 14:44:05] \"POST /detect HTTP/1.1\" 200 -\n"
     ]
    },
    {
     "name": "stdout",
     "output_type": "stream",
     "text": [
      "Received JSON: {'dur': 1.1e-05, 'sbytes': 0, 'dbytes': 0, 'ackdat': 0, 'ct_dst_src_ltm': 1, 'ct_flw_http_mthd': 0, 'sloss': 0, 'trans_depth': 0, 'rate': 0.0, 'ct_src_dport_ltm': 1, 'is_ftp_login': 0, 'dwin': 0, 'ct_srv_src': 1, 'synack': 0, 'state': 'INT', 'dmean': 0, 'sload': 0, 'djit': 0, 'spkts': 0, 'is_sm_ips_ports': 0, 'dttl': 0, 'tcprtt': 0, 'ct_dst_ltm': 1, 'dpkts': 0, 'sttl': 64, 'dinpkt': 0, 'ct_src_ltm': 1, 'ct_ftp_cmd': 0, 'dloss': 0, 'ct_state_ttl': 1, 'service': '-', 'ct_srv_dst': 1, 'proto': 'udp', 'sjit': 0, 'dload': 0, 'sinpkt': 0.011, 'response_body_len': 0, 'swin': 0, 'smean': 0, 'ct_dst_sport_ltm': 1}\n"
     ]
    },
    {
     "name": "stderr",
     "output_type": "stream",
     "text": [
      "127.0.0.1 - - [15/Sep/2025 14:44:07] \"POST /detect HTTP/1.1\" 200 -\n"
     ]
    },
    {
     "name": "stdout",
     "output_type": "stream",
     "text": [
      "Received JSON: {'dur': 1.1e-05, 'sbytes': 0, 'dbytes': 0, 'ackdat': 0, 'ct_dst_src_ltm': 1, 'ct_flw_http_mthd': 0, 'sloss': 0, 'trans_depth': 0, 'rate': 0.0, 'ct_src_dport_ltm': 1, 'is_ftp_login': 0, 'dwin': 0, 'ct_srv_src': 1, 'synack': 0, 'state': 'INT', 'dmean': 0, 'sload': 0, 'djit': 0, 'email': 'shin3481@gmail.com', 'spkts': 0, 'is_sm_ips_ports': 0, 'dttl': 0, 'ip': '0:0:0:0:0:0:0:1', 'tcprtt': 0, 'ct_dst_ltm': 1, 'dpkts': 0, 'sttl': 64, 'dinpkt': 0, 'ct_src_ltm': 1, 'ct_ftp_cmd': 0, 'dloss': 0, 'ct_state_ttl': 1, 'service': '-', 'ct_srv_dst': 1, 'proto': 'udp', 'sjit': 0, 'dload': 0, 'sinpkt': 0.011, 'response_body_len': 0, 'device': 'PostmanRuntime/7.46.0', 'swin': 0, 'smean': 0, 'ct_dst_sport_ltm': 1}\n"
     ]
    },
    {
     "name": "stderr",
     "output_type": "stream",
     "text": [
      "127.0.0.1 - - [15/Sep/2025 14:44:22] \"POST /detect HTTP/1.1\" 200 -\n"
     ]
    },
    {
     "name": "stdout",
     "output_type": "stream",
     "text": [
      "Received JSON: {'dur': 0.921987, 'sbytes': 1280, 'dbytes': 0, 'ackdat': 0, 'ct_dst_src_ltm': 2, 'ct_flw_http_mthd': 0, 'sloss': 0, 'trans_depth': 0, 'rate': 20.607666, 'ct_src_dport_ltm': 1, 'is_ftp_login': 0, 'dwin': 0, 'ct_srv_src': 1, 'synack': 0, 'state': 'INT', 'dmean': 0, 'sload': 10551.125, 'djit': 0, 'email': 'shin3481@gmail.com', 'spkts': 20, 'is_sm_ips_ports': 0, 'dttl': 0, 'ip': '0:0:0:0:0:0:0:1', 'tcprtt': 0, 'ct_dst_ltm': 1, 'dpkts': 0, 'sttl': 254, 'dinpkt': 0, 'ct_src_ltm': 1, 'ct_ftp_cmd': 0, 'dloss': 0, 'ct_state_ttl': 2, 'service': '-', 'ct_srv_dst': 1, 'proto': 'ospf', 'sjit': 52.253805, 'dload': 0, 'sinpkt': 48.525633, 'response_body_len': 0, 'device': 'PostmanRuntime/7.46.0', 'swin': 0, 'smean': 64, 'ct_dst_sport_ltm': 1}\n"
     ]
    },
    {
     "name": "stderr",
     "output_type": "stream",
     "text": [
      "127.0.0.1 - - [15/Sep/2025 14:44:59] \"POST /detect HTTP/1.1\" 200 -\n"
     ]
    },
    {
     "name": "stdout",
     "output_type": "stream",
     "text": [
      "Received JSON: {'dur': 1.1e-05, 'sbytes': 0, 'dbytes': 0, 'ackdat': 0, 'ct_dst_src_ltm': 1, 'ct_flw_http_mthd': 0, 'sloss': 0, 'trans_depth': 0, 'rate': 0.0, 'ct_src_dport_ltm': 1, 'is_ftp_login': 0, 'dwin': 0, 'ct_srv_src': 1, 'synack': 0, 'state': 'INT', 'dmean': 0, 'sload': 0, 'djit': 0, 'spkts': 0, 'is_sm_ips_ports': 0, 'dttl': 0, 'tcprtt': 0, 'ct_dst_ltm': 1, 'dpkts': 0, 'sttl': 64, 'dinpkt': 0, 'ct_src_ltm': 1, 'ct_ftp_cmd': 0, 'dloss': 0, 'ct_state_ttl': 1, 'service': '-', 'ct_srv_dst': 1, 'proto': 'udp', 'sjit': 0, 'dload': 0, 'sinpkt': 0.011, 'response_body_len': 0, 'swin': 0, 'smean': 0, 'ct_dst_sport_ltm': 1}\n"
     ]
    },
    {
     "name": "stderr",
     "output_type": "stream",
     "text": [
      "127.0.0.1 - - [15/Sep/2025 14:45:08] \"POST /detect HTTP/1.1\" 200 -\n"
     ]
    },
    {
     "name": "stdout",
     "output_type": "stream",
     "text": [
      "Received JSON: {'dur': 1.1e-05, 'sbytes': 0, 'dbytes': 0, 'ackdat': 0, 'ct_dst_src_ltm': 1, 'ct_flw_http_mthd': 0, 'sloss': 0, 'trans_depth': 0, 'rate': 0.0, 'ct_src_dport_ltm': 1, 'is_ftp_login': 0, 'dwin': 0, 'ct_srv_src': 1, 'synack': 0, 'state': 'INT', 'dmean': 0, 'sload': 0, 'djit': 0, 'email': 'shin3481@gmail.com', 'spkts': 0, 'is_sm_ips_ports': 0, 'dttl': 0, 'ip': '0:0:0:0:0:0:0:1', 'tcprtt': 0, 'ct_dst_ltm': 1, 'dpkts': 0, 'sttl': 64, 'dinpkt': 0, 'ct_src_ltm': 1, 'ct_ftp_cmd': 0, 'dloss': 0, 'ct_state_ttl': 1, 'service': '-', 'ct_srv_dst': 1, 'proto': 'udp', 'sjit': 0, 'dload': 0, 'sinpkt': 0.011, 'response_body_len': 0, 'device': 'PostmanRuntime/7.46.0', 'swin': 0, 'smean': 0, 'ct_dst_sport_ltm': 1}\n"
     ]
    },
    {
     "name": "stderr",
     "output_type": "stream",
     "text": [
      "127.0.0.1 - - [15/Sep/2025 14:45:23] \"POST /detect HTTP/1.1\" 200 -\n"
     ]
    },
    {
     "name": "stdout",
     "output_type": "stream",
     "text": [
      "Received JSON: {'dur': 1.1e-05, 'sbytes': 0, 'dbytes': 0, 'ackdat': 0, 'ct_dst_src_ltm': 1, 'ct_flw_http_mthd': 0, 'sloss': 0, 'trans_depth': 0, 'rate': 0.0, 'ct_src_dport_ltm': 1, 'is_ftp_login': 0, 'dwin': 0, 'ct_srv_src': 1, 'synack': 0, 'state': 'INT', 'dmean': 0, 'sload': 0, 'djit': 0, 'email': 'shin3481@gmail.com', 'spkts': 0, 'is_sm_ips_ports': 0, 'dttl': 0, 'ip': '0:0:0:0:0:0:0:1', 'tcprtt': 0, 'ct_dst_ltm': 1, 'dpkts': 0, 'sttl': 64, 'dinpkt': 0, 'ct_src_ltm': 1, 'ct_ftp_cmd': 0, 'dloss': 0, 'ct_state_ttl': 1, 'service': '-', 'ct_srv_dst': 1, 'proto': 'udp', 'sjit': 0, 'dload': 0, 'sinpkt': 0.011, 'response_body_len': 0, 'device': 'PostmanRuntime/7.46.0', 'swin': 0, 'smean': 0, 'ct_dst_sport_ltm': 1}\n"
     ]
    },
    {
     "name": "stderr",
     "output_type": "stream",
     "text": [
      "127.0.0.1 - - [15/Sep/2025 14:49:57] \"POST /detect HTTP/1.1\" 200 -\n"
     ]
    },
    {
     "name": "stdout",
     "output_type": "stream",
     "text": [
      "Received JSON: {'dur': 1.1e-05, 'sbytes': 0, 'dbytes': 0, 'ackdat': 0, 'ct_dst_src_ltm': 1, 'ct_flw_http_mthd': 0, 'sloss': 0, 'trans_depth': 0, 'rate': 0.0, 'ct_src_dport_ltm': 1, 'is_ftp_login': 0, 'dwin': 0, 'ct_srv_src': 1, 'synack': 0, 'state': 'INT', 'dmean': 0, 'sload': 0, 'djit': 0, 'spkts': 0, 'is_sm_ips_ports': 0, 'dttl': 0, 'tcprtt': 0, 'ct_dst_ltm': 1, 'dpkts': 0, 'sttl': 64, 'dinpkt': 0, 'ct_src_ltm': 1, 'ct_ftp_cmd': 0, 'dloss': 0, 'ct_state_ttl': 1, 'service': '-', 'ct_srv_dst': 1, 'proto': 'udp', 'sjit': 0, 'dload': 0, 'sinpkt': 0.011, 'response_body_len': 0, 'swin': 0, 'smean': 0, 'ct_dst_sport_ltm': 1}\n"
     ]
    },
    {
     "name": "stderr",
     "output_type": "stream",
     "text": [
      "127.0.0.1 - - [15/Sep/2025 14:50:03] \"POST /detect HTTP/1.1\" 200 -\n"
     ]
    },
    {
     "name": "stdout",
     "output_type": "stream",
     "text": [
      "Received JSON: {'dur': 1.1e-05, 'sbytes': 0, 'dbytes': 0, 'ackdat': 0, 'ct_dst_src_ltm': 1, 'ct_flw_http_mthd': 0, 'sloss': 0, 'trans_depth': 0, 'rate': 0.0, 'ct_src_dport_ltm': 1, 'is_ftp_login': 0, 'dwin': 0, 'ct_srv_src': 1, 'synack': 0, 'state': 'INT', 'dmean': 0, 'sload': 0, 'djit': 0, 'spkts': 0, 'is_sm_ips_ports': 0, 'dttl': 0, 'tcprtt': 0, 'ct_dst_ltm': 1, 'dpkts': 0, 'sttl': 64, 'dinpkt': 0, 'ct_src_ltm': 1, 'ct_ftp_cmd': 0, 'dloss': 0, 'ct_state_ttl': 1, 'service': '-', 'ct_srv_dst': 1, 'proto': 'udp', 'sjit': 0, 'dload': 0, 'sinpkt': 0.011, 'response_body_len': 0, 'swin': 0, 'smean': 0, 'ct_dst_sport_ltm': 1}\n"
     ]
    },
    {
     "name": "stderr",
     "output_type": "stream",
     "text": [
      "127.0.0.1 - - [15/Sep/2025 14:51:26] \"POST /detect HTTP/1.1\" 200 -\n"
     ]
    },
    {
     "name": "stdout",
     "output_type": "stream",
     "text": [
      "Received JSON: {'dur': 1.1e-05, 'sbytes': 0, 'dbytes': 0, 'ackdat': 0, 'ct_dst_src_ltm': 1, 'ct_flw_http_mthd': 0, 'sloss': 0, 'trans_depth': 0, 'rate': 0.0, 'ct_src_dport_ltm': 1, 'is_ftp_login': 0, 'dwin': 0, 'ct_srv_src': 1, 'synack': 0, 'state': 'INT', 'dmean': 0, 'sload': 0, 'djit': 0, 'spkts': 0, 'is_sm_ips_ports': 0, 'dttl': 0, 'tcprtt': 0, 'ct_dst_ltm': 1, 'dpkts': 0, 'sttl': 64, 'dinpkt': 0, 'ct_src_ltm': 1, 'ct_ftp_cmd': 0, 'dloss': 0, 'ct_state_ttl': 1, 'service': '-', 'ct_srv_dst': 1, 'proto': 'udp', 'sjit': 0, 'dload': 0, 'sinpkt': 0.011, 'response_body_len': 0, 'swin': 0, 'smean': 0, 'ct_dst_sport_ltm': 1}\n"
     ]
    },
    {
     "name": "stderr",
     "output_type": "stream",
     "text": [
      "127.0.0.1 - - [15/Sep/2025 14:51:29] \"POST /detect HTTP/1.1\" 200 -\n"
     ]
    },
    {
     "name": "stdout",
     "output_type": "stream",
     "text": [
      "Received JSON: {'dur': 0.921987, 'sbytes': 1280, 'dbytes': 0, 'ackdat': 0, 'ct_dst_src_ltm': 2, 'ct_flw_http_mthd': 0, 'sloss': 0, 'trans_depth': 0, 'rate': 20.607666, 'ct_src_dport_ltm': 1, 'is_ftp_login': 0, 'dwin': 0, 'ct_srv_src': 1, 'synack': 0, 'state': 'INT', 'dmean': 0, 'sload': 10551.125, 'djit': 0, 'spkts': 20, 'is_sm_ips_ports': 0, 'dttl': 0, 'tcprtt': 0, 'ct_dst_ltm': 1, 'dpkts': 0, 'sttl': 254, 'dinpkt': 0, 'ct_src_ltm': 1, 'ct_ftp_cmd': 0, 'dloss': 0, 'ct_state_ttl': 2, 'service': '-', 'ct_srv_dst': 1, 'proto': 'ospf', 'sjit': 52.253805, 'dload': 0, 'sinpkt': 48.525633, 'response_body_len': 0, 'swin': 0, 'smean': 64, 'ct_dst_sport_ltm': 1}\n"
     ]
    }
   ],
   "source": [
    "from flask import Flask, request, jsonify\n",
    "import pickle\n",
    "import os\n",
    "import pandas as pd\n",
    "\n",
    "app = Flask(__name__)\n",
    "\n",
    "# 모델과 전처리기 로드\n",
    "model_path = os.path.join(os.getcwd(), 'best_clf_password_model.pkl')\n",
    "with open(model_path, 'rb') as f:\n",
    "    clf, le_dict, scaler, FEATURE_COLS = pickle.load(f)  # 모델, LabelEncoder dict, Scaler, 컬럼 순서\n",
    "\n",
    "# 범주형 컬럼\n",
    "categorical_cols = list(le_dict.keys())\n",
    "\n",
    "@app.route('/detect', methods=['POST'])\n",
    "def detect():\n",
    "    data = request.json\n",
    "    print(\"Received JSON:\", data)\n",
    "\n",
    "    if not data:\n",
    "        return jsonify({'error': 'JSON 데이터가 필요합니다'}), 400\n",
    "\n",
    "    try:\n",
    "        # DataFrame으로 변환\n",
    "        df = pd.DataFrame([data])\n",
    "    except Exception as e:\n",
    "        return jsonify({'error': f'DataFrame 변환 실패: {str(e)}'}), 400\n",
    "\n",
    "    # 모든 범주형 컬럼에 LabelEncoder 적용\n",
    "    for col in categorical_cols:\n",
    "        if col in df.columns:\n",
    "            try:\n",
    "                df[col] = le_dict[col].transform(df[col].astype(str))\n",
    "            except Exception as e:\n",
    "                return jsonify({'error': f'LabelEncoder 변환 실패 ({col}): {str(e)}'}), 400\n",
    "        else:\n",
    "            return jsonify({'error': f'{col} 컬럼이 누락되었습니다'}), 400\n",
    "\n",
    "    # 컬럼 순서 맞추기\n",
    "    missing_cols = set(FEATURE_COLS) - set(df.columns)\n",
    "    if missing_cols:\n",
    "        return jsonify({'error': f'누락된 컬럼: {list(missing_cols)}'}), 400\n",
    "    df = df[FEATURE_COLS]\n",
    "\n",
    "    # 스케일링 및 예측\n",
    "    try:\n",
    "        X_scaled = scaler.transform(df)\n",
    "        prediction = clf.predict(X_scaled)[0]  # 0 = 정상, 1 = 공격\n",
    "    except Exception as e:\n",
    "        return jsonify({'error': f'예측 실패: {str(e)}'}), 500\n",
    "\n",
    "    return jsonify({'blocked': bool(prediction)})\n",
    "\n",
    "if __name__ == '__main__':\n",
    "    app.run(host='localhost', port=5001)\n"
   ]
  }
 ],
 "metadata": {
  "kernelspec": {
   "display_name": "base",
   "language": "python",
   "name": "python3"
  },
  "language_info": {
   "codemirror_mode": {
    "name": "ipython",
    "version": 3
   },
   "file_extension": ".py",
   "mimetype": "text/x-python",
   "name": "python",
   "nbconvert_exporter": "python",
   "pygments_lexer": "ipython3",
   "version": "3.12.7"
  }
 },
 "nbformat": 4,
 "nbformat_minor": 5
}
